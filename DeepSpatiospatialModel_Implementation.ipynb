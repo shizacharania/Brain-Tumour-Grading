{
  "nbformat": 4,
  "nbformat_minor": 0,
  "metadata": {
    "colab": {
      "provenance": []
    },
    "kernelspec": {
      "name": "python3",
      "display_name": "Python 3"
    },
    "language_info": {
      "name": "python"
    }
  },
  "cells": [
    {
      "cell_type": "code",
      "execution_count": 1,
      "metadata": {
        "id": "4Jxqu8VGqfhB"
      },
      "outputs": [],
      "source": [
        "import torch\n",
        "import torch.nn as nn"
      ]
    },
    {
      "cell_type": "code",
      "source": [
        "class Model(nn.Module):\n",
        "  def __init__(self):\n",
        "    super().__init__()\n",
        "    self.conv3d1 = nn.Conv3d(in_channels=1, out_channels=64, kernel_size=(3,7,7), stride=(1,2,2), padding=(1,3,3))\n",
        "    self.batchnorm1 = nn.BatchNorm3d(64)\n",
        "    self.relu = nn.ReLU()\n",
        "\n",
        "    self.conv3d2 = nn.Conv3d(in_channels=64, out_channels=128, kernel_size=(3,7,7), stride=(1,2,2), padding=(1,3,3))\n",
        "    self.batchnorm2 = nn.BatchNorm3d(128)\n",
        "\n",
        "    self.conv3d3 = nn.Conv3d(in_channels=128, out_channels=256, kernel_size=(3,7,7), stride=(1,2,2), padding=(1,3,3))\n",
        "    self.batchnorm3 = nn.BatchNorm3d(256)\n",
        "\n",
        "    self.globalavgpool = nn.AvgPool3d(32)\n",
        "\n",
        "    self.dropout = nn.Dropout(p=0.3)\n",
        "\n",
        "    self.flatten = nn.Flatten()\n",
        "\n",
        "    self.fclayer = nn.Linear(256, 3)\n",
        "\n",
        "    self.softmax = nn.Softmax(dim=1)\n",
        "\n",
        "  def forward(self, x):\n",
        "    print(x.shape)\n",
        "    x1 = self.conv3d1(x)\n",
        "    print(x1.shape)\n",
        "    x2 = self.batchnorm1(x1)\n",
        "    print(x2.shape)\n",
        "    x3 = self.relu(x2)\n",
        "    print(x3.shape)\n",
        "    print()\n",
        "\n",
        "    x4 = self.conv3d2(x3)\n",
        "    print(x4.shape)\n",
        "    x5 = self.batchnorm2(x4)\n",
        "    print(x5.shape)\n",
        "    x6 = self.relu(x5)\n",
        "    print(x6.shape)\n",
        "    print()\n",
        "\n",
        "    x7 = self.conv3d3(x6)\n",
        "    print(x7.shape)\n",
        "    x8 = self.batchnorm3(x7)\n",
        "    print(x8.shape)\n",
        "    x9 = self.relu(x8)\n",
        "    print(x9.shape)\n",
        "\n",
        "    x10 = self.globalavgpool(x9)\n",
        "    print(x10.shape)\n",
        "\n",
        "    x11 = self.dropout(x10)\n",
        "    print(x11.shape)\n",
        "\n",
        "    x12 = self.flatten(x11)\n",
        "    print(x12.shape)\n",
        "\n",
        "    x13 = self.fclayer(x12)\n",
        "    print(x13.shape)\n",
        "\n",
        "    x14 = self.softmax(x13)\n",
        "    print(x14.shape)\n",
        "    return x14"
      ],
      "metadata": {
        "id": "jJ52Fbuirgtd"
      },
      "execution_count": 14,
      "outputs": []
    },
    {
      "cell_type": "code",
      "source": [
        "input = torch.randn(2, 1, 32, 256, 256)\n",
        "\n",
        "model = Model()\n",
        "print(model)"
      ],
      "metadata": {
        "colab": {
          "base_uri": "https://localhost:8080/"
        },
        "id": "p6GSSdbltQWs",
        "outputId": "8018f106-8c72-4b05-9528-ac39671d095c"
      },
      "execution_count": 15,
      "outputs": [
        {
          "output_type": "stream",
          "name": "stdout",
          "text": [
            "Model(\n",
            "  (conv3d1): Conv3d(1, 64, kernel_size=(3, 7, 7), stride=(1, 2, 2), padding=(1, 3, 3))\n",
            "  (batchnorm1): BatchNorm3d(64, eps=1e-05, momentum=0.1, affine=True, track_running_stats=True)\n",
            "  (relu): ReLU()\n",
            "  (conv3d2): Conv3d(64, 128, kernel_size=(3, 7, 7), stride=(1, 2, 2), padding=(1, 3, 3))\n",
            "  (batchnorm2): BatchNorm3d(128, eps=1e-05, momentum=0.1, affine=True, track_running_stats=True)\n",
            "  (conv3d3): Conv3d(128, 256, kernel_size=(3, 7, 7), stride=(1, 2, 2), padding=(1, 3, 3))\n",
            "  (batchnorm3): BatchNorm3d(256, eps=1e-05, momentum=0.1, affine=True, track_running_stats=True)\n",
            "  (globalavgpool): AvgPool3d(kernel_size=32, stride=32, padding=0)\n",
            "  (dropout): Dropout(p=0.3, inplace=False)\n",
            "  (flatten): Flatten(start_dim=1, end_dim=-1)\n",
            "  (fclayer): Linear(in_features=256, out_features=3, bias=True)\n",
            "  (softmax): Softmax(dim=1)\n",
            ")\n"
          ]
        }
      ]
    },
    {
      "cell_type": "code",
      "source": [
        "output = model(input)"
      ],
      "metadata": {
        "colab": {
          "base_uri": "https://localhost:8080/"
        },
        "id": "d5_3RNMqtUKq",
        "outputId": "2ec38b07-b98c-48be-e72b-52a75be7467f"
      },
      "execution_count": 16,
      "outputs": [
        {
          "output_type": "stream",
          "name": "stdout",
          "text": [
            "torch.Size([2, 1, 32, 256, 256])\n",
            "torch.Size([2, 64, 32, 128, 128])\n",
            "torch.Size([2, 64, 32, 128, 128])\n",
            "torch.Size([2, 64, 32, 128, 128])\n",
            "\n",
            "torch.Size([2, 128, 32, 64, 64])\n",
            "torch.Size([2, 128, 32, 64, 64])\n",
            "torch.Size([2, 128, 32, 64, 64])\n",
            "\n",
            "torch.Size([2, 256, 32, 32, 32])\n",
            "torch.Size([2, 256, 32, 32, 32])\n",
            "torch.Size([2, 256, 32, 32, 32])\n",
            "torch.Size([2, 256, 1, 1, 1])\n",
            "torch.Size([2, 256, 1, 1, 1])\n",
            "torch.Size([2, 256])\n",
            "torch.Size([2, 3])\n",
            "torch.Size([2, 3])\n"
          ]
        }
      ]
    },
    {
      "cell_type": "code",
      "source": [
        "print(output)"
      ],
      "metadata": {
        "colab": {
          "base_uri": "https://localhost:8080/"
        },
        "id": "TDgUtL3sx5jF",
        "outputId": "341928fe-0ceb-4d1d-ab4c-e21042d4b41d"
      },
      "execution_count": 17,
      "outputs": [
        {
          "output_type": "stream",
          "name": "stdout",
          "text": [
            "tensor([[0.3371, 0.4808, 0.1821],\n",
            "        [0.3673, 0.4482, 0.1845]], grad_fn=<SoftmaxBackward0>)\n"
          ]
        }
      ]
    },
    {
      "cell_type": "code",
      "source": [
        "for parameter in model.parameters():\n",
        "    # print(parameter)\n",
        "    print(parameter.shape)"
      ],
      "metadata": {
        "colab": {
          "base_uri": "https://localhost:8080/"
        },
        "id": "ho6YGf2tx85K",
        "outputId": "46f560f0-1b70-44e4-a523-6c84af4ef304"
      },
      "execution_count": 18,
      "outputs": [
        {
          "output_type": "stream",
          "name": "stdout",
          "text": [
            "torch.Size([64, 1, 3, 7, 7])\n",
            "torch.Size([64])\n",
            "torch.Size([64])\n",
            "torch.Size([64])\n",
            "torch.Size([128, 64, 3, 7, 7])\n",
            "torch.Size([128])\n",
            "torch.Size([128])\n",
            "torch.Size([128])\n",
            "torch.Size([256, 128, 3, 7, 7])\n",
            "torch.Size([256])\n",
            "torch.Size([256])\n",
            "torch.Size([256])\n",
            "torch.Size([3, 256])\n",
            "torch.Size([3])\n"
          ]
        }
      ]
    },
    {
      "cell_type": "code",
      "source": [
        "print(\"SUM of parameters in novel grading architecture: \" + str(sum(p.numel() for p in model.parameters())))"
      ],
      "metadata": {
        "colab": {
          "base_uri": "https://localhost:8080/"
        },
        "id": "J9bIRBS7x_D3",
        "outputId": "a5665689-490a-4181-b19f-64798ae774f9"
      },
      "execution_count": 19,
      "outputs": [
        {
          "output_type": "stream",
          "name": "stdout",
          "text": [
            "SUM of parameters in novel grading architecture: 6032643\n"
          ]
        }
      ]
    }
  ]
}