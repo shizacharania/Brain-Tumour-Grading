{
  "nbformat": 4,
  "nbformat_minor": 0,
  "metadata": {
    "colab": {
      "provenance": []
    },
    "kernelspec": {
      "name": "python3",
      "display_name": "Python 3"
    },
    "language_info": {
      "name": "python"
    }
  },
  "cells": [
    {
      "cell_type": "markdown",
      "source": [
        "https://www.ncbi.nlm.nih.gov/pmc/articles/PMC8795458/pdf/41598_2022_Article_5572.pdf and https://shizacharania.notion.site/3D-model-2-Classifcation-of-brain-tumours-in-MR-images-using-deep-spatiospatial-models-1ffdbefcfd884e8bab5bf2e199f0be11 "
      ],
      "metadata": {
        "id": "tRPCv6u-zHla"
      }
    },
    {
      "cell_type": "code",
      "execution_count": null,
      "metadata": {
        "id": "4Jxqu8VGqfhB"
      },
      "outputs": [],
      "source": [
        "import torch\n",
        "import torch.nn as nn"
      ]
    },
    {
      "cell_type": "code",
      "source": [
        "class Model(nn.Module):\n",
        "  def __init__(self):\n",
        "    super().__init__()\n",
        "    self.conv3d1 = nn.Conv3d(in_channels=1, out_channels=64, kernel_size=(3,7,7), stride=(1,2,2), padding=(1,3,3))\n",
        "    self.batchnorm = nn.BatchNorm3d(64)\n",
        "    self.relu = nn.ReLU()\n",
        "\n",
        "    self.conv3d2 = nn.Conv3d(in_channels=64, out_channels=64, kernel_size=(3,3,3), stride=(1,1,1), padding=(1,1,1))\n",
        "\n",
        "    self.conv3dtransition = nn.Conv3d(in_channels=64, out_channels=64, kernel_size=1, stride=2)\n",
        "\n",
        "    # self.globalavgpool = nn.AvgPool3d(32)\n",
        "\n",
        "    self.dropout = nn.Dropout(p=0.3)\n",
        "\n",
        "    self.flatten = nn.Flatten()\n",
        "\n",
        "    self.fclayer = nn.Linear(8192, 3)\n",
        "\n",
        "    self.softmax = nn.Softmax(dim=1)\n",
        "\n",
        "  def forward(self, x):\n",
        "    print(x.shape) # 1, 32, 256, 256\n",
        "    x1 = self.conv3d1(x) # 64, 32, 128, 128\n",
        "    print(x1.shape)\n",
        "    x2 = self.batchnorm(x1) # 64, 32, 128, 128\n",
        "    print(x2.shape)\n",
        "    x3 = self.relu(x2) # 64, 32, 128, 128\n",
        "    print(x3.shape)\n",
        "    print()\n",
        "\n",
        "    x4 = self.conv3d2(x3) # 64, 32, 128, 128\n",
        "    print(x4.shape)\n",
        "    x5 = self.batchnorm(x4) # 64, 32, 128, 128\n",
        "    print(x5.shape)\n",
        "    x6 = self.relu(x5) # 64, 32, 128, 128\n",
        "    print(x6.shape)\n",
        "    x7 = self.conv3d2(x6) # 64, 32, 128, 128\n",
        "    print(x7.shape)\n",
        "    x8 = self.batchnorm(x7) # 64, 32, 128, 128\n",
        "    print(x8.shape)\n",
        "    print()\n",
        "    # print(x3.shape)\n",
        "    # print(x8.shape)\n",
        "    # x9 = torch.sum(x3, x8) # 64, 32, 128, 128\n",
        "    # print(x9.shape)\n",
        "    x10 = self.relu(x8) # 64, 32, 128, 128\n",
        "    print(x10.shape)\n",
        "\n",
        "    x11 = self.conv3dtransition(x10) # 64, 16, 64, 64\n",
        "    print(x11.shape)\n",
        "    print()\n",
        "    \n",
        "    x12 = self.conv3d2(x11) # 64, 16, 64, 64\n",
        "    print(x12.shape)\n",
        "    x13 = self.batchnorm(x12) # 64, 16, 64, 64\n",
        "    print(x13.shape)\n",
        "    x14 = self.relu(x13) # 64, 16, 64, 64\n",
        "    print(x14.shape)\n",
        "    x15 = self.conv3d2(x14) # 64, 16, 64, 64\n",
        "    print(x15.shape)\n",
        "    x16 = self.batchnorm(x15) # 64, 16, 64, 64\n",
        "    print(x16.shape)\n",
        "    # x17 = torch.sum(x11, x16) # 64, 16, 64, 64\n",
        "    # print(x17.shape)\n",
        "    x18 = self.relu(x16) # 64, 16, 64, 64\n",
        "    print(x18.shape)\n",
        "\n",
        "    x19 = self.conv3dtransition(x18) # 64, 8, 32, 32\n",
        "    print(x19.shape)\n",
        "\n",
        "    x20 = self.conv3d2(x19) # 64, 8, 32, 32\n",
        "    print(x20.shape)\n",
        "    x21 = self.batchnorm(x20) # 64, 8, 32, 32\n",
        "    print(x21.shape)\n",
        "    x22 = self.relu(x21) # 64, 8, 32, 32\n",
        "    print(x22.shape)\n",
        "    x23 = self.conv3d2(x22) # 64, 8, 32, 32\n",
        "    print(x23.shape)\n",
        "    x24 = self.batchnorm(x23) # 64, 8, 32, 32\n",
        "    print(x24.shape)\n",
        "    # x25 = torch.sum(x19, x24) # 64, 8, 32, 32\n",
        "    # print(x25.shape)\n",
        "    x26 = self.relu(x24) # 64, 8, 32, 32\n",
        "    print(x26.shape)\n",
        "\n",
        "    x27 = self.conv3dtransition(x26) # 64, 4, 16, 16\n",
        "    print(x27.shape)\n",
        "\n",
        "    x28 = self.conv3d2(x27) # 64, 8, 32, 32\n",
        "    print(x28.shape)\n",
        "    x29 = self.batchnorm(x28) # 64, 8, 32, 32\n",
        "    print(x29.shape)\n",
        "    x30 = self.relu(x29) # 64, 8, 32, 32\n",
        "    print(x30.shape)\n",
        "    x31 = self.conv3d2(x30) # 64, 8, 32, 32\n",
        "    print(x31.shape)\n",
        "    x32 = self.batchnorm(x31) # 64, 8, 32, 32\n",
        "    print(x32.shape)\n",
        "    # x33 = torch.sum(x27, x32) # 64, 8, 32, 32\n",
        "    # print(x33.shape)\n",
        "    x34 = self.relu(x32) # 64, 8, 32, 32\n",
        "    print(x34.shape)\n",
        "\n",
        "    x35 = self.conv3dtransition(x34) # 64, 4, 16, 16\n",
        "    print(x35.shape)\n",
        "\n",
        "    x36 = self.flatten(x35) # 8192\n",
        "    print(x36.shape)\n",
        "\n",
        "    x37 = self.dropout(x36)\n",
        "    print(x37.shape)\n",
        "\n",
        "    x38 = self.fclayer(x37)\n",
        "    print(x38.shape)\n",
        "\n",
        "    x39 = self.softmax(x38)\n",
        "    print(x39.shape)\n",
        "    return x39"
      ],
      "metadata": {
        "id": "jJ52Fbuirgtd"
      },
      "execution_count": null,
      "outputs": []
    },
    {
      "cell_type": "code",
      "source": [
        "input = torch.randn(2, 1, 32, 256, 256)\n",
        "\n",
        "model = Model()\n",
        "print(model)"
      ],
      "metadata": {
        "colab": {
          "base_uri": "https://localhost:8080/"
        },
        "id": "p6GSSdbltQWs",
        "outputId": "fe267b8a-8df4-4cb7-9413-da7958080ff5"
      },
      "execution_count": null,
      "outputs": [
        {
          "output_type": "stream",
          "name": "stdout",
          "text": [
            "Model(\n",
            "  (conv3d1): Conv3d(1, 64, kernel_size=(3, 7, 7), stride=(1, 2, 2), padding=(1, 3, 3))\n",
            "  (batchnorm): BatchNorm3d(64, eps=1e-05, momentum=0.1, affine=True, track_running_stats=True)\n",
            "  (relu): ReLU()\n",
            "  (conv3d2): Conv3d(64, 64, kernel_size=(3, 3, 3), stride=(1, 1, 1), padding=(1, 1, 1))\n",
            "  (conv3dtransition): Conv3d(64, 64, kernel_size=(1, 1, 1), stride=(2, 2, 2))\n",
            "  (dropout): Dropout(p=0.3, inplace=False)\n",
            "  (flatten): Flatten(start_dim=1, end_dim=-1)\n",
            "  (fclayer): Linear(in_features=8192, out_features=3, bias=True)\n",
            "  (softmax): Softmax(dim=1)\n",
            ")\n"
          ]
        }
      ]
    },
    {
      "cell_type": "code",
      "source": [
        "output = model(input)"
      ],
      "metadata": {
        "colab": {
          "base_uri": "https://localhost:8080/"
        },
        "id": "d5_3RNMqtUKq",
        "outputId": "fa3fa4ee-72c0-4403-dd77-c540365d1e1c"
      },
      "execution_count": null,
      "outputs": [
        {
          "output_type": "stream",
          "name": "stdout",
          "text": [
            "torch.Size([2, 1, 32, 256, 256])\n",
            "torch.Size([2, 64, 32, 128, 128])\n",
            "torch.Size([2, 64, 32, 128, 128])\n",
            "torch.Size([2, 64, 32, 128, 128])\n",
            "\n",
            "torch.Size([2, 64, 32, 128, 128])\n",
            "torch.Size([2, 64, 32, 128, 128])\n",
            "torch.Size([2, 64, 32, 128, 128])\n",
            "torch.Size([2, 64, 32, 128, 128])\n",
            "torch.Size([2, 64, 32, 128, 128])\n",
            "\n",
            "torch.Size([2, 64, 32, 128, 128])\n",
            "torch.Size([2, 64, 16, 64, 64])\n",
            "\n",
            "torch.Size([2, 64, 16, 64, 64])\n",
            "torch.Size([2, 64, 16, 64, 64])\n",
            "torch.Size([2, 64, 16, 64, 64])\n",
            "torch.Size([2, 64, 16, 64, 64])\n",
            "torch.Size([2, 64, 16, 64, 64])\n",
            "torch.Size([2, 64, 16, 64, 64])\n",
            "torch.Size([2, 64, 8, 32, 32])\n",
            "torch.Size([2, 64, 8, 32, 32])\n",
            "torch.Size([2, 64, 8, 32, 32])\n",
            "torch.Size([2, 64, 8, 32, 32])\n",
            "torch.Size([2, 64, 8, 32, 32])\n",
            "torch.Size([2, 64, 8, 32, 32])\n",
            "torch.Size([2, 64, 8, 32, 32])\n",
            "torch.Size([2, 64, 4, 16, 16])\n",
            "torch.Size([2, 64, 4, 16, 16])\n",
            "torch.Size([2, 64, 4, 16, 16])\n",
            "torch.Size([2, 64, 4, 16, 16])\n",
            "torch.Size([2, 64, 4, 16, 16])\n",
            "torch.Size([2, 64, 4, 16, 16])\n",
            "torch.Size([2, 64, 4, 16, 16])\n",
            "torch.Size([2, 64, 2, 8, 8])\n",
            "torch.Size([2, 8192])\n",
            "torch.Size([2, 8192])\n",
            "torch.Size([2, 3])\n",
            "torch.Size([2, 3])\n"
          ]
        }
      ]
    },
    {
      "cell_type": "code",
      "source": [
        "print(output)"
      ],
      "metadata": {
        "colab": {
          "base_uri": "https://localhost:8080/"
        },
        "id": "TDgUtL3sx5jF",
        "outputId": "6da0bed3-748b-4236-b71c-fc5a06cbf68c"
      },
      "execution_count": null,
      "outputs": [
        {
          "output_type": "stream",
          "name": "stdout",
          "text": [
            "None\n"
          ]
        }
      ]
    },
    {
      "cell_type": "code",
      "source": [
        "for parameter in model.parameters():\n",
        "    # print(parameter)\n",
        "    print(parameter.shape)"
      ],
      "metadata": {
        "colab": {
          "base_uri": "https://localhost:8080/"
        },
        "id": "ho6YGf2tx85K",
        "outputId": "212c8462-edc1-413d-c435-a2a04eb10e14"
      },
      "execution_count": null,
      "outputs": [
        {
          "output_type": "stream",
          "name": "stdout",
          "text": [
            "torch.Size([64, 1, 3, 7, 7])\n",
            "torch.Size([64])\n",
            "torch.Size([64])\n",
            "torch.Size([64])\n",
            "torch.Size([64, 64, 3, 3, 3])\n",
            "torch.Size([64])\n",
            "torch.Size([64, 64, 1, 1, 1])\n",
            "torch.Size([64])\n",
            "torch.Size([256, 128, 3, 7, 7])\n",
            "torch.Size([256])\n",
            "torch.Size([256])\n",
            "torch.Size([256])\n",
            "torch.Size([3, 256])\n",
            "torch.Size([3])\n"
          ]
        }
      ]
    },
    {
      "cell_type": "code",
      "source": [
        "print(\"SUM of parameters in novel grading architecture: \" + str(sum(p.numel() for p in model.parameters())))"
      ],
      "metadata": {
        "colab": {
          "base_uri": "https://localhost:8080/"
        },
        "id": "J9bIRBS7x_D3",
        "outputId": "1df08576-8f8f-4b45-9210-39d9575a7297"
      },
      "execution_count": null,
      "outputs": [
        {
          "output_type": "stream",
          "name": "stdout",
          "text": [
            "SUM of parameters in novel grading architecture: 4942851\n"
          ]
        }
      ]
    }
  ]
}