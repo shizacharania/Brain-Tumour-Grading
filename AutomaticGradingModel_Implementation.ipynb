{
  "cells": [
    {
      "cell_type": "markdown",
      "source": [
        "https://arxiv.org/pdf/1809.09468.pdf and https://shizacharania.notion.site/3D-Model-1-Automatic-brain-tumor-grading-from-MRI-data-using-convolutional-neural-networks-and-qu-7eed479609a44260992e493139df449a "
      ],
      "metadata": {
        "id": "iQMpE2ur58Zi"
      }
    },
    {
      "cell_type": "code",
      "execution_count": null,
      "metadata": {
        "id": "5c-TCFQ-tOQw"
      },
      "outputs": [],
      "source": [
        "import torch\n",
        "import torch.nn as nn"
      ]
    },
    {
      "cell_type": "code",
      "execution_count": null,
      "metadata": {
        "id": "QOXuD_goSqRy"
      },
      "outputs": [],
      "source": [
        "class Model(nn.Module):\n",
        "  def __init__(self):\n",
        "    super().__init__()\n",
        "    self.conv1 = nn.Conv3d(in_channels=1, out_channels=12, kernel_size=3, stride=1, padding=0)\n",
        "    self.conv2 = nn.Conv3d(in_channels=12, out_channels=12, kernel_size=3, stride=1, padding=0)\n",
        "\n",
        "    self.batchnorm1 = nn.BatchNorm3d(12)\n",
        "    self.relu = nn.ReLU()\n",
        "    self.resconv1 = nn.Conv3d(in_channels=12, out_channels=12, kernel_size=3, stride=1, padding=0)\n",
        "\n",
        "    self.maxpool = nn.MaxPool3d(kernel_size=2, stride=2)\n",
        "\n",
        "    self.resconv2a = nn.Conv3d(in_channels=12, out_channels=24, kernel_size=3, stride=1, padding=0)\n",
        "    self.batchnorm2 = nn.BatchNorm3d(24)\n",
        "    self.resconv2b = nn.Conv3d(in_channels=24, out_channels=24, kernel_size=3, stride=1, padding=0)\n",
        "\n",
        "    self.resconv3a = nn.Conv3d(in_channels=24, out_channels=48, kernel_size=3, stride=1, padding=1)\n",
        "    self.batchnorm3 = nn.BatchNorm3d(48)\n",
        "    self.resconv3b = nn.Conv3d(in_channels=48, out_channels=48, kernel_size=3, stride=1, padding=1)\n",
        "\n",
        "    self.resconv4a = nn.Conv3d(in_channels=48, out_channels=96, kernel_size=3, stride=1, padding=1)\n",
        "    self.batchnorm4 = nn.BatchNorm3d(96)\n",
        "    self.resconv4b = nn.Conv3d(in_channels=96, out_channels=96, kernel_size=3, stride=1, padding=1)\n",
        "\n",
        "    # self.globalavgpooling = nn.AvgPool3d(kernel_size = 2, stride=2) # recheck dimensions\n",
        "    self.flatten = nn.Flatten()\n",
        "\n",
        "    # self.conv1x1x1a = nn.Conv3d(in_channels=96, out_channels=128, kernel_size=1, stride=1)\n",
        "    # self.conv1x1x1b = nn.Conv3d(in_channels=128, out_channels=128, kernel_size=1, stride=1)\n",
        "\n",
        "    # self.conv1x1x1b = nn.Conv3d(in_channels=128, out_channels=3, kernel_size=1, stride=1)\n",
        "    self.fclayer = nn.Linear(19200, 3)\n",
        "    self.softmax = nn.Softmax(dim=1)\n",
        "\n",
        "  def forward(self, x):\n",
        "    print(input.shape)\n",
        "    x1 = self.conv1(x)\n",
        "    print(x1.shape)\n",
        "    x2 = self.conv2(x1)\n",
        "    print(x2.shape)\n",
        "    print()\n",
        "\n",
        "    x3 = self.batchnorm1(x2)\n",
        "    print(x3.shape)\n",
        "    x4 = self.relu(x3)\n",
        "    print(x4.shape)\n",
        "    x5 = self.resconv1(x4)\n",
        "    print(x5.shape)\n",
        "    x6 = self.batchnorm1(x5)\n",
        "    print(x6.shape)\n",
        "    x7 = self.relu(x6)\n",
        "    print(x7.shape)\n",
        "    x8 = self.resconv1(x7)\n",
        "    print(x8.shape)\n",
        "    print()\n",
        "\n",
        "    # x9 = torch.sum(x2, x8) - doesn't work\n",
        "\n",
        "    x10 = self.maxpool(x8)\n",
        "    print(x10.shape)\n",
        "    print()\n",
        "\n",
        "    x11 = self.batchnorm1(x10)\n",
        "    print(x11.shape)\n",
        "    x12 = self.relu(x11)\n",
        "    print(x12.shape)\n",
        "    x13 = self.resconv2a(x12)\n",
        "    print(x13.shape)\n",
        "    x14 = self.batchnorm2(x13)\n",
        "    print(x14.shape)\n",
        "    x15 = self.relu(x14)\n",
        "    print(x15.shape)\n",
        "    x16 = self.resconv2b(x15)\n",
        "    print(x16.shape)\n",
        "    print()\n",
        "\n",
        "    x17 = self.maxpool(x16)\n",
        "    print(x17.shape)\n",
        "    print()\n",
        "\n",
        "    x18 = self.batchnorm2(x17)\n",
        "    print(x18.shape)\n",
        "    x19 = self.relu(x18)\n",
        "    print(x19.shape)\n",
        "    x20 = self.resconv3a(x19)\n",
        "    print(x20.shape)\n",
        "    x21 = self.batchnorm3(x20)\n",
        "    print(x21.shape)\n",
        "    x22 = self.relu(x21)\n",
        "    print(x22.shape)\n",
        "    x23 = self.resconv3b(x22)\n",
        "    print(x23.shape)\n",
        "    print()\n",
        "\n",
        "    x24 = self.maxpool(x23)\n",
        "    print(x24.shape)\n",
        "    print()\n",
        "\n",
        "    x25 = self.batchnorm3(x24)\n",
        "    print(x25.shape)\n",
        "    x26 = self.relu(x25)\n",
        "    print(x26.shape)\n",
        "    x27 = self.resconv4a(x26)\n",
        "    print(x27.shape)\n",
        "    x28 = self.batchnorm4(x27)\n",
        "    print(x28.shape)\n",
        "    x29 = self.relu(x28)\n",
        "    print(x29.shape)\n",
        "    x30 = self.resconv4b(x29)\n",
        "    print(x30.shape)\n",
        "    print()\n",
        "\n",
        "    x31 = self.flatten(x30)\n",
        "    print(x31.shape)\n",
        "\n",
        "    x32 = self.fclayer(x31)\n",
        "    print(x32.shape) # (1, 3)\n",
        "\n",
        "    x33 = self.softmax(x32)\n",
        "    print(x33.shape)\n",
        "    return x33"
      ]
    },
    {
      "cell_type": "code",
      "source": [
        "input = torch.randn(2, 1, 32, 96, 96)\n",
        "\n",
        "model = Model()\n",
        "print(model)"
      ],
      "metadata": {
        "colab": {
          "base_uri": "https://localhost:8080/"
        },
        "id": "Ku-7XzJcWpj1",
        "outputId": "27df4f9e-71b6-4806-cc95-3d28fa050a57"
      },
      "execution_count": 107,
      "outputs": [
        {
          "output_type": "stream",
          "name": "stdout",
          "text": [
            "Model_one(\n",
            "  (conv1): Conv3d(1, 12, kernel_size=(3, 3, 3), stride=(1, 1, 1))\n",
            "  (conv2): Conv3d(12, 12, kernel_size=(3, 3, 3), stride=(1, 1, 1))\n",
            "  (batchnorm1): BatchNorm3d(12, eps=1e-05, momentum=0.1, affine=True, track_running_stats=True)\n",
            "  (relu): ReLU()\n",
            "  (resconv1): Conv3d(12, 12, kernel_size=(3, 3, 3), stride=(1, 1, 1))\n",
            "  (maxpool): MaxPool3d(kernel_size=2, stride=2, padding=0, dilation=1, ceil_mode=False)\n",
            "  (resconv2a): Conv3d(12, 24, kernel_size=(3, 3, 3), stride=(1, 1, 1))\n",
            "  (batchnorm2): BatchNorm3d(24, eps=1e-05, momentum=0.1, affine=True, track_running_stats=True)\n",
            "  (resconv2b): Conv3d(24, 24, kernel_size=(3, 3, 3), stride=(1, 1, 1))\n",
            "  (resconv3a): Conv3d(24, 48, kernel_size=(3, 3, 3), stride=(1, 1, 1), padding=(1, 1, 1))\n",
            "  (batchnorm3): BatchNorm3d(48, eps=1e-05, momentum=0.1, affine=True, track_running_stats=True)\n",
            "  (resconv3b): Conv3d(48, 48, kernel_size=(3, 3, 3), stride=(1, 1, 1), padding=(1, 1, 1))\n",
            "  (resconv4a): Conv3d(48, 96, kernel_size=(3, 3, 3), stride=(1, 1, 1), padding=(1, 1, 1))\n",
            "  (batchnorm4): BatchNorm3d(96, eps=1e-05, momentum=0.1, affine=True, track_running_stats=True)\n",
            "  (resconv4b): Conv3d(96, 96, kernel_size=(3, 3, 3), stride=(1, 1, 1), padding=(1, 1, 1))\n",
            "  (flatten): Flatten(start_dim=1, end_dim=-1)\n",
            "  (fclayer): Linear(in_features=19200, out_features=3, bias=True)\n",
            "  (softmax): Softmax(dim=1)\n",
            ")\n"
          ]
        }
      ]
    },
    {
      "cell_type": "code",
      "source": [
        "output = model(input)"
      ],
      "metadata": {
        "colab": {
          "base_uri": "https://localhost:8080/"
        },
        "id": "fNujFtfr52mc",
        "outputId": "1c690816-19be-4512-cebf-7dd2871b43ff"
      },
      "execution_count": 108,
      "outputs": [
        {
          "output_type": "stream",
          "name": "stdout",
          "text": [
            "torch.Size([2, 1, 32, 96, 96])\n",
            "torch.Size([2, 12, 30, 94, 94])\n",
            "torch.Size([2, 12, 28, 92, 92])\n",
            "\n",
            "torch.Size([2, 12, 28, 92, 92])\n",
            "torch.Size([2, 12, 28, 92, 92])\n",
            "torch.Size([2, 12, 26, 90, 90])\n",
            "torch.Size([2, 12, 26, 90, 90])\n",
            "torch.Size([2, 12, 26, 90, 90])\n",
            "torch.Size([2, 12, 24, 88, 88])\n",
            "\n",
            "torch.Size([2, 12, 12, 44, 44])\n",
            "\n",
            "torch.Size([2, 12, 12, 44, 44])\n",
            "torch.Size([2, 12, 12, 44, 44])\n",
            "torch.Size([2, 24, 10, 42, 42])\n",
            "torch.Size([2, 24, 10, 42, 42])\n",
            "torch.Size([2, 24, 10, 42, 42])\n",
            "torch.Size([2, 24, 8, 40, 40])\n",
            "\n",
            "torch.Size([2, 24, 4, 20, 20])\n",
            "\n",
            "torch.Size([2, 24, 4, 20, 20])\n",
            "torch.Size([2, 24, 4, 20, 20])\n",
            "torch.Size([2, 48, 4, 20, 20])\n",
            "torch.Size([2, 48, 4, 20, 20])\n",
            "torch.Size([2, 48, 4, 20, 20])\n",
            "torch.Size([2, 48, 4, 20, 20])\n",
            "\n",
            "torch.Size([2, 48, 2, 10, 10])\n",
            "\n",
            "torch.Size([2, 48, 2, 10, 10])\n",
            "torch.Size([2, 48, 2, 10, 10])\n",
            "torch.Size([2, 96, 2, 10, 10])\n",
            "torch.Size([2, 96, 2, 10, 10])\n",
            "torch.Size([2, 96, 2, 10, 10])\n",
            "torch.Size([2, 96, 2, 10, 10])\n",
            "\n",
            "torch.Size([2, 19200])\n",
            "torch.Size([2, 3])\n",
            "torch.Size([2, 3])\n"
          ]
        }
      ]
    },
    {
      "cell_type": "code",
      "source": [
        "print(output)"
      ],
      "metadata": {
        "id": "pSoJXLNoxw-h"
      },
      "execution_count": null,
      "outputs": []
    },
    {
      "cell_type": "code",
      "source": [
        "# print(novelgradingmodel.parameters())\n",
        "for parameter in model.parameters():\n",
        "    # print(parameter)\n",
        "    print(parameter.shape)"
      ],
      "metadata": {
        "colab": {
          "base_uri": "https://localhost:8080/"
        },
        "id": "hM4lalhZ5ejW",
        "outputId": "555b7628-aa3a-467a-926f-df2f9b19f5e4"
      },
      "execution_count": 104,
      "outputs": [
        {
          "output_type": "stream",
          "name": "stdout",
          "text": [
            "torch.Size([12, 1, 3, 3, 3])\n",
            "torch.Size([12])\n",
            "torch.Size([12, 12, 3, 3, 3])\n",
            "torch.Size([12])\n",
            "torch.Size([12])\n",
            "torch.Size([12])\n",
            "torch.Size([12, 12, 3, 3, 3])\n",
            "torch.Size([12])\n",
            "torch.Size([24, 12, 3, 3, 3])\n",
            "torch.Size([24])\n",
            "torch.Size([24])\n",
            "torch.Size([24])\n",
            "torch.Size([24, 24, 3, 3, 3])\n",
            "torch.Size([24])\n",
            "torch.Size([48, 24, 3, 3, 3])\n",
            "torch.Size([48])\n",
            "torch.Size([48])\n",
            "torch.Size([48])\n",
            "torch.Size([48, 48, 3, 3, 3])\n",
            "torch.Size([48])\n",
            "torch.Size([96, 48, 3, 3, 3])\n",
            "torch.Size([96])\n",
            "torch.Size([96])\n",
            "torch.Size([96])\n",
            "torch.Size([96, 96, 3, 3, 3])\n",
            "torch.Size([96])\n",
            "torch.Size([3, 19200])\n",
            "torch.Size([3])\n"
          ]
        }
      ]
    },
    {
      "cell_type": "code",
      "source": [
        "print(\"SUM of parameters in novel grading architecture: \" + str(sum(p.numel() for p in model.parameters())))"
      ],
      "metadata": {
        "colab": {
          "base_uri": "https://localhost:8080/"
        },
        "id": "j-mBiO7O5nN8",
        "outputId": "3d6cea34-e8d3-4007-9374-d55dbecab94b"
      },
      "execution_count": 106,
      "outputs": [
        {
          "output_type": "stream",
          "name": "stdout",
          "text": [
            "SUM of parameters in novel grading architecture: 556323\n"
          ]
        }
      ]
    }
  ],
  "metadata": {
    "colab": {
      "provenance": []
    },
    "kernelspec": {
      "display_name": "Python 3",
      "name": "python3"
    },
    "language_info": {
      "name": "python"
    }
  },
  "nbformat": 4,
  "nbformat_minor": 0
}