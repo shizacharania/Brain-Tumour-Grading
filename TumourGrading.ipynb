{
  "nbformat": 4,
  "nbformat_minor": 0,
  "metadata": {
    "colab": {
      "name": "TumourGrading.ipynb",
      "provenance": [],
      "collapsed_sections": [],
      "authorship_tag": "ABX9TyMZi2UeehqJcNkqrwuMYm0q",
      "include_colab_link": true
    },
    "kernelspec": {
      "name": "python3",
      "display_name": "Python 3"
    },
    "language_info": {
      "name": "python"
    },
    "accelerator": "GPU",
    "gpuClass": "standard"
  },
  "cells": [
    {
      "cell_type": "markdown",
      "metadata": {
        "id": "view-in-github",
        "colab_type": "text"
      },
      "source": [
        "<a href=\"https://colab.research.google.com/github/shizacharania/Brain-Tumour-Grading/blob/main/TumourGrading.ipynb\" target=\"_parent\"><img src=\"https://colab.research.google.com/assets/colab-badge.svg\" alt=\"Open In Colab\"/></a>"
      ]
    },
    {
      "cell_type": "code",
      "execution_count": 1,
      "metadata": {
        "id": "w5jyFMf8WlYS",
        "colab": {
          "resources": {
            "http://localhost:8080/nbextensions/google.colab/files.js": {
              "data": "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",
              "ok": true,
              "headers": [
                [
                  "content-type",
                  "application/javascript"
                ]
              ],
              "status": 200,
              "status_text": ""
            }
          },
          "base_uri": "https://localhost:8080/",
          "height": 74
        },
        "outputId": "6ec46405-1285-4f4c-8c42-3eba97554d11"
      },
      "outputs": [
        {
          "output_type": "display_data",
          "data": {
            "text/plain": [
              "<IPython.core.display.HTML object>"
            ],
            "text/html": [
              "\n",
              "     <input type=\"file\" id=\"files-98a1a964-bc9c-44b3-b333-1ce6f22f19f1\" name=\"files[]\" multiple disabled\n",
              "        style=\"border:none\" />\n",
              "     <output id=\"result-98a1a964-bc9c-44b3-b333-1ce6f22f19f1\">\n",
              "      Upload widget is only available when the cell has been executed in the\n",
              "      current browser session. Please rerun this cell to enable.\n",
              "      </output>\n",
              "      <script src=\"/nbextensions/google.colab/files.js\"></script> "
            ]
          },
          "metadata": {}
        },
        {
          "output_type": "stream",
          "name": "stdout",
          "text": [
            "Saving brain_tumour_grading_data_small.zip to brain_tumour_grading_data_small.zip\n"
          ]
        }
      ],
      "source": [
        "from google.colab import files\n",
        "files.upload()"
      ]
    },
    {
      "cell_type": "code",
      "source": [
        "!unzip /content/brain_tumour_grading_data_small.zip"
      ],
      "metadata": {
        "id": "H7VPnYtWgkAc",
        "colab": {
          "base_uri": "https://localhost:8080/"
        },
        "outputId": "c205fe83-3de6-445c-8bee-c46e21cc2b1b"
      },
      "execution_count": 18,
      "outputs": [
        {
          "output_type": "stream",
          "name": "stdout",
          "text": [
            "Archive:  /content/brain_tumour_grading_data_small.zip\n",
            "replace brain_tumour_grading_data_small/.DS_Store? [y]es, [n]o, [A]ll, [N]one, [r]ename: N\n"
          ]
        }
      ]
    },
    {
      "cell_type": "code",
      "source": [
        "# getting the file paths for gr2 images, gr3 images, and gr4 images - examples:\n",
        "# grade 2: /content/brain_tumour_grading_data_small/grade2/1.000000-AXIAL_T1_POST_GD-55708_AXIAL_T1_POST_GD_1.nii\n",
        "# grade 3: /content/brain_tumour_grading_data_small/grade3/2.000000-AXIAL_T2-79698_AXIAL_T2_2_e1.nii\n",
        "# grade 4: /content/brain_tumour_grading_data_small/grade4/1.000000-AXIAL_T1_POST_GD-81414_AXIAL_T1_POST_GD_1.nii"
      ],
      "metadata": {
        "id": "1R8tGTGEgpQN"
      },
      "execution_count": 19,
      "outputs": []
    },
    {
      "cell_type": "code",
      "source": [
        "import os\n",
        "\n",
        "grade2_rootpath = \"/content/brain_tumour_grading_data_small/grade2\"\n",
        "grade3_rootpath = \"/content/brain_tumour_grading_data_small/grade3\"\n",
        "grade4_rootpath = \"/content/brain_tumour_grading_data_small/grade4\"\n",
        "\n",
        "grade2_filepaths = os.listdir(grade2_rootpath)\n",
        "grade3_filepaths = os.listdir(grade3_rootpath)\n",
        "grade4_filepaths = os.listdir(grade4_rootpath)\n",
        "\n",
        "grade2_filepaths.remove('.DS_Store')\n",
        "grade3_filepaths.remove('.DS_Store')\n",
        "grade4_filepaths.remove('.DS_Store')\n",
        "\n",
        "print(\"There are \" + str(len(grade2_filepaths)) + \" grade 2 files\")\n",
        "print(grade2_filepaths)\n",
        "print(\"There are \" + str(len(grade3_filepaths)) + \" grade 3 files\")\n",
        "print(grade3_filepaths)\n",
        "print(\"There are \" + str(len(grade4_filepaths)) + \" grade 4 files\")\n",
        "print(grade4_filepaths)"
      ],
      "metadata": {
        "id": "MrsnP7lehA1t",
        "colab": {
          "base_uri": "https://localhost:8080/"
        },
        "outputId": "02be3593-44bb-49d6-c089-8a650eb06bde"
      },
      "execution_count": 20,
      "outputs": [
        {
          "output_type": "stream",
          "name": "stdout",
          "text": [
            "There are 10 grade 2 files\n",
            "['2.000000-AXIAL_VARIABLE_ECHO_PDT2-74529_AXIAL_VARIABLE_ECHO_PD_T2_2_e2.nii', '5.000000-AXIAL_T1_PRE_GD-06516_AXIAL_T1_PRE_GD_5.nii', '5.000000-AXIAL_T1_PRE_GD-09302_AXIAL_T1_PRE_GD_5.nii', '2.000000-AXIAL_VARIABLE_ECHO_PDT2-74529_AXIAL_VARIABLE_ECHO_PD_T2_2_e1.nii', '1.000000-AXIAL_T1_POST_GD-70447_AXIAL_T1_POST_GD_1.nii', '4.000000-AXIAL_T1-45172_AXIAL_T1_4.nii', '5.000000-AXIAL_T1_POST_GAD.-46431_AXIAL_T1_POST_GAD._5.nii', '1.000000-AXIAL_T1_POST_GD-55708_AXIAL_T1_POST_GD_1.nii', '5.000000-AXIAL_T1_PRE_GD-00202_AXIAL_T1_PRE_GD_5.nii', '5.000000-AXIAL_T1_PRE_GD-04080_AXIAL_T1_PRE_GD_5.nii']\n",
            "There are 10 grade 3 files\n",
            "['5.000000-axial_t1_pre_gd-70698_axial_t1_pre_gd_5.nii', '5.000000-AXIAL_T1_PRE_GD-61134_AXIAL_T1_PRE_GD_5.nii', '2.000000-AXIAL_T2-79698_AXIAL_T2_2_e1.nii', '5.000000-AXIAL_T1_PRE-GAD.-55766_AXIAL_T1_PRE-GAD._5.nii', '3.000000-AXIAL_T1_POST_GAD-25828_AXIAL_T1_POST_GAD_3.nii', '6.000000-AXIAL_T1_PRE_GD-25584_AXIAL_T1_PRE_GD_6.nii', '5.000000-AXIAL_T1_PRE_GD-85690_AXIAL_T1_PRE_GD_5.nii', '6.000000-AXIAL_T1_PRE_GD-25584_AXIAL_T1_PRE_GD_6a.nii', '5.000000-AXIAL_T1_PRE_GD-24436_AXIAL_T1_PRE_GD_5.nii', '2.000000-AXIAL_T2-79698_AXIAL_T2_2_e2.nii']\n",
            "There are 10 grade 4 files\n",
            "['4.000000-AXIAL_T1_PRE-33532_AXIAL_T1_PRE_4.nii', '4.000000-AXIAL_T2-97482_AXIAL_T2_4_e2.nii', '1.000000-AXIAL_T1_POST_GD-81414_AXIAL_T1_POST_GD_1.nii', '4.000000-AXIAL_T2-97482_AXIAL_T2_4_e1.nii', '5.000000-AXIAL_T1_POST-82637_AXIAL_T1_POST_5.nii', '4.000000-AXIAL_T2ssfse_OK_PER_PATEL-74240_AXIAL_T2_ssfse_OK_PER_PATEL_4.nii', '2.000000-AXIAL_T1_POST_GD-61212_AXIAL_T1_POST_GD_2.nii', '2.000000-AXIAL_T2-60786_AXIAL_T2_2_e2.nii', '5.000000-AXIAL_T1_BRAIN_PRE_GD-60183_AXIAL_T1_BRAIN_PRE_GD_5.nii', '2.000000-AXIAL_T2-60786_AXIAL_T2_2_e1.nii']\n"
          ]
        }
      ]
    },
    {
      "cell_type": "code",
      "source": [
        "filepaths = []\n",
        "labels = []\n",
        "\n",
        "for afilepath in grade2_filepaths:\n",
        "  filepaths.append(grade2_rootpath + \"/\" + afilepath)\n",
        "  labels.append(\"grade 2\")\n",
        "\n",
        "for afilepath in grade3_filepaths:\n",
        "  filepaths.append(grade3_rootpath + \"/\" + afilepath)\n",
        "  labels.append(\"grade 3\")\n",
        "\n",
        "for afilepath in grade4_filepaths:\n",
        "  filepaths.append(grade4_rootpath + \"/\" + afilepath)\n",
        "  labels.append(\"grade 4\")"
      ],
      "metadata": {
        "id": "OiFZ5_ZUhprW"
      },
      "execution_count": 21,
      "outputs": []
    },
    {
      "cell_type": "code",
      "source": [
        "print(filepaths)\n",
        "print(labels)\n",
        "\n",
        "print(\"There are \" + str(len(filepaths)) + \" files and \" + str(len(labels)) + \" labels in total.\")\n",
        "print(len(filepaths) == len(labels))"
      ],
      "metadata": {
        "id": "6Y1EYtDwiYLZ",
        "colab": {
          "base_uri": "https://localhost:8080/"
        },
        "outputId": "1b184b7d-6d73-4857-9635-3303471db135"
      },
      "execution_count": 22,
      "outputs": [
        {
          "output_type": "stream",
          "name": "stdout",
          "text": [
            "['/content/brain_tumour_grading_data_small/grade2/2.000000-AXIAL_VARIABLE_ECHO_PDT2-74529_AXIAL_VARIABLE_ECHO_PD_T2_2_e2.nii', '/content/brain_tumour_grading_data_small/grade2/5.000000-AXIAL_T1_PRE_GD-06516_AXIAL_T1_PRE_GD_5.nii', '/content/brain_tumour_grading_data_small/grade2/5.000000-AXIAL_T1_PRE_GD-09302_AXIAL_T1_PRE_GD_5.nii', '/content/brain_tumour_grading_data_small/grade2/2.000000-AXIAL_VARIABLE_ECHO_PDT2-74529_AXIAL_VARIABLE_ECHO_PD_T2_2_e1.nii', '/content/brain_tumour_grading_data_small/grade2/1.000000-AXIAL_T1_POST_GD-70447_AXIAL_T1_POST_GD_1.nii', '/content/brain_tumour_grading_data_small/grade2/4.000000-AXIAL_T1-45172_AXIAL_T1_4.nii', '/content/brain_tumour_grading_data_small/grade2/5.000000-AXIAL_T1_POST_GAD.-46431_AXIAL_T1_POST_GAD._5.nii', '/content/brain_tumour_grading_data_small/grade2/1.000000-AXIAL_T1_POST_GD-55708_AXIAL_T1_POST_GD_1.nii', '/content/brain_tumour_grading_data_small/grade2/5.000000-AXIAL_T1_PRE_GD-00202_AXIAL_T1_PRE_GD_5.nii', '/content/brain_tumour_grading_data_small/grade2/5.000000-AXIAL_T1_PRE_GD-04080_AXIAL_T1_PRE_GD_5.nii', '/content/brain_tumour_grading_data_small/grade3/5.000000-axial_t1_pre_gd-70698_axial_t1_pre_gd_5.nii', '/content/brain_tumour_grading_data_small/grade3/5.000000-AXIAL_T1_PRE_GD-61134_AXIAL_T1_PRE_GD_5.nii', '/content/brain_tumour_grading_data_small/grade3/2.000000-AXIAL_T2-79698_AXIAL_T2_2_e1.nii', '/content/brain_tumour_grading_data_small/grade3/5.000000-AXIAL_T1_PRE-GAD.-55766_AXIAL_T1_PRE-GAD._5.nii', '/content/brain_tumour_grading_data_small/grade3/3.000000-AXIAL_T1_POST_GAD-25828_AXIAL_T1_POST_GAD_3.nii', '/content/brain_tumour_grading_data_small/grade3/6.000000-AXIAL_T1_PRE_GD-25584_AXIAL_T1_PRE_GD_6.nii', '/content/brain_tumour_grading_data_small/grade3/5.000000-AXIAL_T1_PRE_GD-85690_AXIAL_T1_PRE_GD_5.nii', '/content/brain_tumour_grading_data_small/grade3/6.000000-AXIAL_T1_PRE_GD-25584_AXIAL_T1_PRE_GD_6a.nii', '/content/brain_tumour_grading_data_small/grade3/5.000000-AXIAL_T1_PRE_GD-24436_AXIAL_T1_PRE_GD_5.nii', '/content/brain_tumour_grading_data_small/grade3/2.000000-AXIAL_T2-79698_AXIAL_T2_2_e2.nii', '/content/brain_tumour_grading_data_small/grade4/4.000000-AXIAL_T1_PRE-33532_AXIAL_T1_PRE_4.nii', '/content/brain_tumour_grading_data_small/grade4/4.000000-AXIAL_T2-97482_AXIAL_T2_4_e2.nii', '/content/brain_tumour_grading_data_small/grade4/1.000000-AXIAL_T1_POST_GD-81414_AXIAL_T1_POST_GD_1.nii', '/content/brain_tumour_grading_data_small/grade4/4.000000-AXIAL_T2-97482_AXIAL_T2_4_e1.nii', '/content/brain_tumour_grading_data_small/grade4/5.000000-AXIAL_T1_POST-82637_AXIAL_T1_POST_5.nii', '/content/brain_tumour_grading_data_small/grade4/4.000000-AXIAL_T2ssfse_OK_PER_PATEL-74240_AXIAL_T2_ssfse_OK_PER_PATEL_4.nii', '/content/brain_tumour_grading_data_small/grade4/2.000000-AXIAL_T1_POST_GD-61212_AXIAL_T1_POST_GD_2.nii', '/content/brain_tumour_grading_data_small/grade4/2.000000-AXIAL_T2-60786_AXIAL_T2_2_e2.nii', '/content/brain_tumour_grading_data_small/grade4/5.000000-AXIAL_T1_BRAIN_PRE_GD-60183_AXIAL_T1_BRAIN_PRE_GD_5.nii', '/content/brain_tumour_grading_data_small/grade4/2.000000-AXIAL_T2-60786_AXIAL_T2_2_e1.nii']\n",
            "['grade 2', 'grade 2', 'grade 2', 'grade 2', 'grade 2', 'grade 2', 'grade 2', 'grade 2', 'grade 2', 'grade 2', 'grade 3', 'grade 3', 'grade 3', 'grade 3', 'grade 3', 'grade 3', 'grade 3', 'grade 3', 'grade 3', 'grade 3', 'grade 4', 'grade 4', 'grade 4', 'grade 4', 'grade 4', 'grade 4', 'grade 4', 'grade 4', 'grade 4', 'grade 4']\n",
            "There are 30 files and 30 labels in total.\n",
            "True\n"
          ]
        }
      ]
    },
    {
      "cell_type": "code",
      "source": [
        "print(filepaths[0])\n",
        "print(filepaths[28])"
      ],
      "metadata": {
        "id": "T2ZaGur4oK5F",
        "colab": {
          "base_uri": "https://localhost:8080/"
        },
        "outputId": "307fdb19-cef4-469f-c718-b4e8131df928"
      },
      "execution_count": 23,
      "outputs": [
        {
          "output_type": "stream",
          "name": "stdout",
          "text": [
            "/content/brain_tumour_grading_data_small/grade2/2.000000-AXIAL_VARIABLE_ECHO_PDT2-74529_AXIAL_VARIABLE_ECHO_PD_T2_2_e2.nii\n",
            "/content/brain_tumour_grading_data_small/grade4/5.000000-AXIAL_T1_BRAIN_PRE_GD-60183_AXIAL_T1_BRAIN_PRE_GD_5.nii\n"
          ]
        }
      ]
    },
    {
      "cell_type": "code",
      "source": [
        "\"\"\"\n",
        "my approach to visualize 3d images:\n",
        "- use simpleitk (sitk)\n",
        "   - i need to load the images into sitk format and then convert it into a numpy array\n",
        "\n",
        "- from a numpy array, i need to do 2 tasks\n",
        "    1. i will look at a stack of 2d arrays (that form a 3d image) and visualize the slices for that\n",
        "    2. i will visualize the 3d image entirely and have a scrolling feature that goes through these 2d array slices\n",
        "\n",
        "look into basics of simpleitk - how to read the file and then convert it into np.array()\n",
        "look into \"Exploring 3D images with Matplotlib\" - https://www.youtube.com/watch?v=5jQVQE6yfio\n",
        "look into what fatemeh did: https://youtu.be/rBIetBho0x4\n",
        "\"\"\""
      ],
      "metadata": {
        "id": "NTjQCuxVidPt",
        "colab": {
          "base_uri": "https://localhost:8080/",
          "height": 107
        },
        "outputId": "b7c2364a-d709-4c63-da7a-52c739a509ee"
      },
      "execution_count": 31,
      "outputs": [
        {
          "output_type": "execute_result",
          "data": {
            "text/plain": [
              "'\\nmy approach to visualize 3d images:\\n- use simpleitk (sitk)\\n   - i need to load the images into sitk format and then convert it into a numpy array\\n\\n- from a numpy array, i need to do 2 tasks\\n    1. i will look at a stack of 2d arrays (that form a 3d image) and visualize the slices for that\\n    2. i will visualize the 3d image entirely and have a scrolling feature that goes through these 2d array slices\\n\\nlook into basics of simpleitk - how to read the file and then convert it into np.array()\\nlook into \"Exploring 3D images with Matplotlib\" - https://www.youtube.com/watch?v=5jQVQE6yfio\\nlook into what fatemeh did: https://youtu.be/rBIetBho0x4\\n'"
            ],
            "application/vnd.google.colaboratory.intrinsic+json": {
              "type": "string"
            }
          },
          "metadata": {},
          "execution_count": 31
        }
      ]
    },
    {
      "cell_type": "code",
      "source": [
        "!pip install SimpleITK"
      ],
      "metadata": {
        "id": "p5wy07aen6Uf",
        "colab": {
          "base_uri": "https://localhost:8080/"
        },
        "outputId": "5c0e203e-d48a-437b-a1b0-8a00faa64601"
      },
      "execution_count": 32,
      "outputs": [
        {
          "output_type": "stream",
          "name": "stdout",
          "text": [
            "Looking in indexes: https://pypi.org/simple, https://us-python.pkg.dev/colab-wheels/public/simple/\n",
            "Requirement already satisfied: SimpleITK in /usr/local/lib/python3.7/dist-packages (2.1.1.2)\n"
          ]
        }
      ]
    },
    {
      "cell_type": "code",
      "source": [
        "import SimpleITK as sitk"
      ],
      "metadata": {
        "id": "N_PTDIH8oIkC"
      },
      "execution_count": 33,
      "outputs": []
    },
    {
      "cell_type": "code",
      "source": [
        "img_nparrays = []\n",
        "\n",
        "for filepath in filepaths:\n",
        "  img = sitk.ReadImage(filepath) # returns a <class 'SimpleITK.SimpleITK.Image'>\n",
        "  img = sitk.GetArrayFromImage(img)\n",
        "  img_nparrays.append(img)\n",
        "print(len(img_nparrays))"
      ],
      "metadata": {
        "id": "zRhnn_Han8Kf",
        "colab": {
          "base_uri": "https://localhost:8080/"
        },
        "outputId": "12d41530-eda5-4b7e-a83a-9721a87d55fe"
      },
      "execution_count": 34,
      "outputs": [
        {
          "output_type": "stream",
          "name": "stdout",
          "text": [
            "30\n"
          ]
        }
      ]
    },
    {
      "cell_type": "code",
      "source": [
        "# 1. i will look at a stack of 2d arrays (that form a 3d image) and visualize the slices for that\n",
        "import matplotlib.pyplot as plt\n",
        "import numpy as np\n",
        "\n",
        "testing_img = img_nparrays[4]\n",
        "print(testing_img.shape)\n",
        "print(type(testing_img))\n",
        "\n",
        "print(testing_img[:, :, :])\n",
        "\n",
        "brain_slice = testing_img[50, :, :] # first coordinate goes through slices from top to bottom - last 2 are basically the X and Y (|__)\n",
        "plt.imshow(brain_slice)\n",
        "print(testing_img[2, :, :].shape)\n",
        "\n",
        "plt.show()"
      ],
      "metadata": {
        "id": "kArl711KosVs",
        "colab": {
          "base_uri": "https://localhost:8080/",
          "height": 1000
        },
        "outputId": "5719e669-53bb-4f64-d98a-a824372901d2"
      },
      "execution_count": 55,
      "outputs": [
        {
          "output_type": "stream",
          "name": "stdout",
          "text": [
            "(58, 256, 256)\n",
            "<class 'numpy.ndarray'>\n",
            "[[[0 0 0 ... 0 0 0]\n",
            "  [0 0 0 ... 0 0 0]\n",
            "  [0 0 0 ... 0 0 0]\n",
            "  ...\n",
            "  [0 0 0 ... 0 0 0]\n",
            "  [0 0 0 ... 0 0 0]\n",
            "  [0 0 0 ... 0 0 0]]\n",
            "\n",
            " [[0 0 0 ... 0 0 0]\n",
            "  [0 0 0 ... 0 0 0]\n",
            "  [0 0 0 ... 0 0 0]\n",
            "  ...\n",
            "  [0 0 0 ... 0 0 0]\n",
            "  [0 0 0 ... 0 0 0]\n",
            "  [0 0 0 ... 0 0 0]]\n",
            "\n",
            " [[0 0 0 ... 0 0 0]\n",
            "  [0 0 0 ... 0 0 0]\n",
            "  [0 0 0 ... 0 0 0]\n",
            "  ...\n",
            "  [0 0 0 ... 0 0 0]\n",
            "  [0 0 0 ... 0 0 0]\n",
            "  [0 0 0 ... 0 0 0]]\n",
            "\n",
            " ...\n",
            "\n",
            " [[0 0 0 ... 0 0 0]\n",
            "  [0 0 0 ... 0 0 0]\n",
            "  [0 0 0 ... 0 0 0]\n",
            "  ...\n",
            "  [0 0 0 ... 0 0 0]\n",
            "  [0 0 0 ... 0 0 0]\n",
            "  [0 0 0 ... 0 0 0]]\n",
            "\n",
            " [[0 0 0 ... 0 0 0]\n",
            "  [0 0 0 ... 0 0 0]\n",
            "  [0 0 0 ... 0 0 0]\n",
            "  ...\n",
            "  [0 0 0 ... 0 0 0]\n",
            "  [0 0 0 ... 0 0 0]\n",
            "  [0 0 0 ... 0 0 0]]\n",
            "\n",
            " [[0 0 0 ... 0 0 0]\n",
            "  [0 0 0 ... 0 0 0]\n",
            "  [0 0 0 ... 0 0 0]\n",
            "  ...\n",
            "  [0 0 0 ... 0 0 0]\n",
            "  [0 0 0 ... 0 0 0]\n",
            "  [0 0 0 ... 0 0 0]]]\n",
            "(256, 256)\n"
          ]
        },
        {
          "output_type": "display_data",
          "data": {
            "text/plain": [
              "<Figure size 432x288 with 1 Axes>"
            ],
            "image/png": "[encoded data removed]"
          },
          "metadata": {
            "needs_background": "light"
          }
        }
      ]
    },
    {
      "cell_type": "code",
      "source": [
        "count = 0\n",
        "min_slices = img_nparrays[0].shape[0]  # ig you would have to find the fewest amount of slices and then segment it that way\n",
        "\n",
        "for i in range(len(img_nparrays)):\n",
        "  img = img_nparrays[i]\n",
        "  if (img.shape[0] == 3):\n",
        "    print(\"HI\")\n",
        "    continue\n",
        "  print((img_nparrays[i].shape))\n",
        "  if (img_nparrays[i].shape[0] < min_slices and img.shape[0] != 3):\n",
        "    min_slices = img_nparrays[i].shape[0];\n",
        "  count += 1\n",
        "\n",
        "print(count)\n",
        "print(min_slices)"
      ],
      "metadata": {
        "id": "W2RsUhDzKQIS",
        "colab": {
          "base_uri": "https://localhost:8080/"
        },
        "outputId": "d08b0d6b-34cd-4431-9fca-f65de6dbb7ee"
      },
      "execution_count": 36,
      "outputs": [
        {
          "output_type": "stream",
          "name": "stdout",
          "text": [
            "(21, 256, 256)\n",
            "(60, 256, 256)\n",
            "(57, 256, 256)\n",
            "(21, 256, 256)\n",
            "(58, 256, 256)\n",
            "(56, 256, 256)\n",
            "(30, 256, 256)\n",
            "(56, 256, 256)\n",
            "(58, 256, 256)\n",
            "HI\n",
            "(55, 256, 256)\n",
            "(57, 256, 256)\n",
            "(21, 256, 256)\n",
            "(58, 256, 256)\n",
            "(30, 256, 256)\n",
            "(49, 256, 256)\n",
            "(54, 256, 256)\n",
            "(49, 256, 256)\n",
            "(64, 256, 256)\n",
            "(21, 256, 256)\n",
            "(30, 256, 256)\n",
            "(20, 256, 256)\n",
            "(58, 256, 256)\n",
            "(20, 256, 256)\n",
            "(30, 256, 256)\n",
            "(23, 256, 256)\n",
            "(55, 256, 256)\n",
            "(20, 256, 256)\n",
            "(32, 256, 256)\n",
            "(20, 256, 256)\n",
            "29\n",
            "20\n"
          ]
        }
      ]
    },
    {
      "cell_type": "code",
      "source": [
        "# i took out slices from the ends of the images because I thought/assumed that in the images, the first and last slices of only have sparse information\n",
        "#  that's the problem - I ASSUMED, so after making the algorithm, I realized that I shouldn’t have sliced the ends.\n",
        "# instead, the last slices are the ones that have sparse information. on the other hand, the first few slices have a lot of information\n",
        "# so now i gotta slice out from the last ones\n",
        "\n",
        "# same_size_arrays = []\n",
        "\n",
        "# for i in range(len(img_nparrays)):\n",
        "#   img = img_nparrays[i]\n",
        "#   # print(img.shape)\n",
        "\n",
        "#   if (img.shape[0] == 3):\n",
        "#     continue\n",
        "\n",
        "#   take_out = (img.shape[0]-min_slices)/2;\n",
        "#   # print(img.shape[0])\n",
        "#   # print(take_out)\n",
        "#   if (take_out % 1 == 0):\n",
        "#     # print(\"yes\")\n",
        "#     start = int(take_out)\n",
        "#     end = int(img.shape[0]-take_out)\n",
        "#     print(start, end)\n",
        "#   if (take_out % 1 != 0):\n",
        "#     # print(\"no\")\n",
        "#     start = int(take_out)\n",
        "#     end = int(img.shape[0]-take_out)\n",
        "#     print(start, end)\n",
        "\n",
        "#   brain_slice = img[start:end, :, :]\n",
        "#   print(brain_slice.shape)\n",
        "#   same_size_arrays.append(brain_slice)\n",
        "# #   print(\"\\nNEXT\\n\")\n",
        "#   # print(img_nparrays[i].shape[0], start, end)\n",
        "\n",
        "# # print(testing_img[10, 180, 175:181])\n",
        "#   # print(brain_slice.shape)\n",
        "\n"
      ],
      "metadata": {
        "id": "fNubduqMH4H7"
      },
      "execution_count": 56,
      "outputs": []
    },
    {
      "cell_type": "code",
      "source": [
        "same_size_arrays = []\n",
        "\n",
        "for i in range(len(img_nparrays)):\n",
        "  img = img_nparrays[i]\n",
        "  if (img.shape[0] == 3):\n",
        "    continue\n",
        "  print(img.shape)\n",
        "  brain_slice = img[:min_slices, :, :]\n",
        "  print(brain_slice.shape)\n",
        "  print()\n",
        "  same_size_arrays.append(brain_slice)"
      ],
      "metadata": {
        "colab": {
          "base_uri": "https://localhost:8080/"
        },
        "id": "UlBkyKAu4vq8",
        "outputId": "5868bbad-f2d9-4327-c704-5569e668e4d6"
      },
      "execution_count": 65,
      "outputs": [
        {
          "output_type": "stream",
          "name": "stdout",
          "text": [
            "(21, 256, 256)\n",
            "(20, 256, 256)\n",
            "\n",
            "(60, 256, 256)\n",
            "(20, 256, 256)\n",
            "\n",
            "(57, 256, 256)\n",
            "(20, 256, 256)\n",
            "\n",
            "(21, 256, 256)\n",
            "(20, 256, 256)\n",
            "\n",
            "(58, 256, 256)\n",
            "(20, 256, 256)\n",
            "\n",
            "(56, 256, 256)\n",
            "(20, 256, 256)\n",
            "\n",
            "(30, 256, 256)\n",
            "(20, 256, 256)\n",
            "\n",
            "(56, 256, 256)\n",
            "(20, 256, 256)\n",
            "\n",
            "(58, 256, 256)\n",
            "(20, 256, 256)\n",
            "\n",
            "(55, 256, 256)\n",
            "(20, 256, 256)\n",
            "\n",
            "(57, 256, 256)\n",
            "(20, 256, 256)\n",
            "\n",
            "(21, 256, 256)\n",
            "(20, 256, 256)\n",
            "\n",
            "(58, 256, 256)\n",
            "(20, 256, 256)\n",
            "\n",
            "(30, 256, 256)\n",
            "(20, 256, 256)\n",
            "\n",
            "(49, 256, 256)\n",
            "(20, 256, 256)\n",
            "\n",
            "(54, 256, 256)\n",
            "(20, 256, 256)\n",
            "\n",
            "(49, 256, 256)\n",
            "(20, 256, 256)\n",
            "\n",
            "(64, 256, 256)\n",
            "(20, 256, 256)\n",
            "\n",
            "(21, 256, 256)\n",
            "(20, 256, 256)\n",
            "\n",
            "(30, 256, 256)\n",
            "(20, 256, 256)\n",
            "\n",
            "(20, 256, 256)\n",
            "(20, 256, 256)\n",
            "\n",
            "(58, 256, 256)\n",
            "(20, 256, 256)\n",
            "\n",
            "(20, 256, 256)\n",
            "(20, 256, 256)\n",
            "\n",
            "(30, 256, 256)\n",
            "(20, 256, 256)\n",
            "\n",
            "(23, 256, 256)\n",
            "(20, 256, 256)\n",
            "\n",
            "(55, 256, 256)\n",
            "(20, 256, 256)\n",
            "\n",
            "(20, 256, 256)\n",
            "(20, 256, 256)\n",
            "\n",
            "(32, 256, 256)\n",
            "(20, 256, 256)\n",
            "\n",
            "(20, 256, 256)\n",
            "(20, 256, 256)\n",
            "\n"
          ]
        }
      ]
    },
    {
      "cell_type": "code",
      "source": [
        "print(len(same_size_arrays))"
      ],
      "metadata": {
        "colab": {
          "base_uri": "https://localhost:8080/"
        },
        "id": "JXWw9Ff64mD4",
        "outputId": "fcd2c34f-387b-452b-df31-003e11076cf2"
      },
      "execution_count": 66,
      "outputs": [
        {
          "output_type": "stream",
          "name": "stdout",
          "text": [
            "29\n"
          ]
        }
      ]
    },
    {
      "cell_type": "code",
      "source": [
        "# for one:\n",
        "# img = img_nparrays[1]\n",
        "# print(img.shape)\n",
        "\n",
        "# take_out = (img.shape[0]-min_slices)/2;\n",
        "# print(img.shape[0])\n",
        "# print(take_out)\n",
        "# if (take_out % 1 == 0):\n",
        "#   # print(\"yes\")\n",
        "#   start = int(take_out)\n",
        "#   end = int(img.shape[0]-take_out)\n",
        "#   print(start, end)\n",
        "# if (take_out % 1 != 0):\n",
        "#   # print(\"no\")\n",
        "#   start = int(take_out)\n",
        "#   end = int(img.shape[0]-take_out)\n",
        "#   print(start, end)\n",
        "\n",
        "# brain_slice = img[start:end, :, :]\n",
        "# print(brain_slice.shape)\n",
        "# #   print(\"\\nNEXT\\n\")\n",
        "#   # print(img_nparrays[i].shape[0], start, end)\n",
        "\n",
        "# # print(testing_img[10, 180, 175:181])\n",
        "#   # print(brain_slice.shape)\n"
      ],
      "metadata": {
        "id": "kbMnTxXpXHAu"
      },
      "execution_count": 39,
      "outputs": []
    },
    {
      "cell_type": "code",
      "source": [
        "\"\"\"\n",
        "size is not the same :(\n",
        "\n",
        "find mean and standard deviation on the entire volume of one image - do we need size to be same for this?\n",
        "^yes, but why?\n",
        " I should be taking the mean and standard deviation for each volume as a whole and then\n",
        " averaging that instead of taking it for each slice of each volume. Also, for normalization,\n",
        " the image size should be the same for all the scans with different volumes (which will also tie\n",
        "into other preprocessing steps). Normalization is one part of preprocessing though\n",
        "\n",
        "convert the array into a torch tensor\n",
        "convert all pixel values into float32\n",
        "make pixel value range from 0 to 1\n",
        "\n",
        "if needed, volume reshaping (ndimage.zoom (resize first and then normalize))\n",
        "create a new dataset with the preprocessed images\n",
        "\n",
        "even if preprocessing works out well, you can't train a model based on images with different dimensions\n",
        "\n",
        "\n",
        "ALTERNATIVELY TO MAKE THE IMAGE VOLUMES THE SAME, YOU WOULD DO the the rigid registration (resizing) with the SimpleITK library\n",
        "\"\"\""
      ],
      "metadata": {
        "id": "bjmCinQ5pLvO",
        "colab": {
          "base_uri": "https://localhost:8080/",
          "height": 143
        },
        "outputId": "ede1db69-4b59-44a7-d1ea-5fc161df89c1"
      },
      "execution_count": 40,
      "outputs": [
        {
          "output_type": "execute_result",
          "data": {
            "text/plain": [
              "\"\\nsize is not the same :(\\n\\nfind mean and standard deviation on the entire volume of one image - do we need size to be same for this?\\n^yes, but why?\\n I should be taking the mean and standard deviation for each volume as a whole and then\\n averaging that instead of taking it for each slice of each volume. Also, for normalization,\\n the image size should be the same for all the scans with different volumes (which will also tie\\ninto other preprocessing steps). Normalization is one part of preprocessing though\\n\\nconvert the array into a torch tensor\\nconvert all pixel values into float32\\nmake pixel value range from 0 to 1\\n\\nif needed, volume reshaping (ndimage.zoom (resize first and then normalize))\\ncreate a new dataset with the preprocessed images\\n\\neven if preprocessing works out well, you can't train a model based on images with different dimensions\\n\\n\\nALTERNATIVELY TO MAKE THE IMAGE VOLUMES THE SAME, YOU WOULD DO the the rigid registration (resizing) with the SimpleITK library\\n\""
            ],
            "application/vnd.google.colaboratory.intrinsic+json": {
              "type": "string"
            }
          },
          "metadata": {},
          "execution_count": 40
        }
      ]
    }
  ]
}